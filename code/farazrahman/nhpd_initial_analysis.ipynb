{
 "cells": [
  {
   "cell_type": "code",
   "execution_count": 242,
   "metadata": {},
   "outputs": [],
   "source": [
    "import pandas as pd\n",
    "import numpy as np\n",
    "import seaborn as sns\n",
    "import matplotlib.pyplot as plt"
   ]
  },
  {
   "cell_type": "code",
   "execution_count": 243,
   "metadata": {},
   "outputs": [],
   "source": [
    "nhpd = pd.read_excel('Active and Inconclusive Properties.xlsx')"
   ]
  },
  {
   "cell_type": "code",
   "execution_count": 244,
   "metadata": {},
   "outputs": [
    {
     "data": {
      "text/plain": [
       "(82287, 252)"
      ]
     },
     "execution_count": 244,
     "metadata": {},
     "output_type": "execute_result"
    }
   ],
   "source": [
    "nhpd.shape"
   ]
  },
  {
   "cell_type": "code",
   "execution_count": 245,
   "metadata": {},
   "outputs": [],
   "source": [
    "# Let's find the percent of missing values in each column. \n",
    "\n",
    "def find_missing(df: pd.DataFrame):\n",
    "    \"\"\"\n",
    "    Calculates the percent of missing values in a given dataset\n",
    "    param df: The dataframe for which we want to calculate the percent of missing values in each column\n",
    "    \"\"\"\n",
    "    \n",
    "    missing = df.isnull().sum()\n",
    "    \n",
    "    percent_missing = missing * 100/ len(df)\n",
    "    \n",
    "    missing_df = pd.DataFrame({'col': df.columns, 'percent_missing': percent_missing})\n",
    "    \n",
    "    #sort them in decreasing order\n",
    "    missing_df.sort_values(by = 'percent_missing', ascending= False, inplace=True)\n",
    "    \n",
    "    return missing_df\n",
    "    \n",
    "    \n",
    "\n",
    "missing_values = find_missing(nhpd)\n"
   ]
  },
  {
   "cell_type": "code",
   "execution_count": 246,
   "metadata": {},
   "outputs": [
    {
     "data": {
      "text/plain": [
       "137"
      ]
     },
     "execution_count": 246,
     "metadata": {},
     "output_type": "execute_result"
    }
   ],
   "source": [
    "# number of columns with more than 90% missing data\n",
    "df_subset_90 = missing_values[missing_values['percent_missing'] >= 90]\n",
    "df_subset_90['col'].nunique()"
   ]
  },
  {
   "cell_type": "code",
   "execution_count": 247,
   "metadata": {},
   "outputs": [
    {
     "data": {
      "text/plain": [
       "62"
      ]
     },
     "execution_count": 247,
     "metadata": {},
     "output_type": "execute_result"
    }
   ],
   "source": [
    "# number of columns with less than 30% missing data\n",
    "df_subset_30 = missing_values[missing_values['percent_missing'] <= 30]\n",
    "df_subset_30['col'].nunique()"
   ]
  },
  {
   "cell_type": "code",
   "execution_count": 248,
   "metadata": {},
   "outputs": [
    {
     "data": {
      "text/plain": [
       "18"
      ]
     },
     "execution_count": 248,
     "metadata": {},
     "output_type": "execute_result"
    }
   ],
   "source": [
    "# number of columns with less than 100% missing data\n",
    "df_subset_100 = missing_values[missing_values['percent_missing'] == 100]\n",
    "df_subset_100['col'].nunique()"
   ]
  },
  {
   "cell_type": "code",
   "execution_count": 249,
   "metadata": {},
   "outputs": [],
   "source": [
    "no_missing_list = df_subset_90['col'].unique().tolist()"
   ]
  },
  {
   "cell_type": "code",
   "execution_count": 250,
   "metadata": {},
   "outputs": [
    {
     "data": {
      "text/html": [
       "<div>\n",
       "<style scoped>\n",
       "    .dataframe tbody tr th:only-of-type {\n",
       "        vertical-align: middle;\n",
       "    }\n",
       "\n",
       "    .dataframe tbody tr th {\n",
       "        vertical-align: top;\n",
       "    }\n",
       "\n",
       "    .dataframe thead th {\n",
       "        text-align: right;\n",
       "    }\n",
       "</style>\n",
       "<table border=\"1\" class=\"dataframe\">\n",
       "  <thead>\n",
       "    <tr style=\"text-align: right;\">\n",
       "      <th></th>\n",
       "      <th>S8_1_InacStatusDesc</th>\n",
       "      <th>S8_2_ID</th>\n",
       "      <th>S8_2_Status</th>\n",
       "      <th>S8_2_ProgramName</th>\n",
       "      <th>S8_2_RenewalStatus</th>\n",
       "      <th>S8_2_StartDate</th>\n",
       "      <th>S8_2_EndDate</th>\n",
       "      <th>S8_2_AssistedUnits</th>\n",
       "      <th>S8_2_RentToFMR</th>\n",
       "      <th>S8_2_InacStatusDesc</th>\n",
       "      <th>...</th>\n",
       "      <th>Pbv_1_AssistedUnits</th>\n",
       "      <th>Pbv_2_Status</th>\n",
       "      <th>Pbv_2_ProgramName</th>\n",
       "      <th>Pbv_2_AssistedUnits</th>\n",
       "      <th>Mr_1_Status</th>\n",
       "      <th>Mr_1_ProgramName</th>\n",
       "      <th>Mr_1_AssistedUnits</th>\n",
       "      <th>Mr_2_Status</th>\n",
       "      <th>Mr_2_ProgramName</th>\n",
       "      <th>Mr_2_AssistedUnits</th>\n",
       "    </tr>\n",
       "  </thead>\n",
       "  <tbody>\n",
       "    <tr>\n",
       "      <th>0</th>\n",
       "      <td>NaN</td>\n",
       "      <td>NaN</td>\n",
       "      <td>NaN</td>\n",
       "      <td>NaN</td>\n",
       "      <td>NaN</td>\n",
       "      <td>NaT</td>\n",
       "      <td>NaT</td>\n",
       "      <td>NaN</td>\n",
       "      <td>NaN</td>\n",
       "      <td>NaN</td>\n",
       "      <td>...</td>\n",
       "      <td>NaN</td>\n",
       "      <td>NaN</td>\n",
       "      <td>NaN</td>\n",
       "      <td>NaN</td>\n",
       "      <td>NaN</td>\n",
       "      <td>NaN</td>\n",
       "      <td>NaN</td>\n",
       "      <td>NaN</td>\n",
       "      <td>NaN</td>\n",
       "      <td>NaN</td>\n",
       "    </tr>\n",
       "    <tr>\n",
       "      <th>1</th>\n",
       "      <td>NaN</td>\n",
       "      <td>NaN</td>\n",
       "      <td>NaN</td>\n",
       "      <td>NaN</td>\n",
       "      <td>NaN</td>\n",
       "      <td>NaT</td>\n",
       "      <td>NaT</td>\n",
       "      <td>NaN</td>\n",
       "      <td>NaN</td>\n",
       "      <td>NaN</td>\n",
       "      <td>...</td>\n",
       "      <td>NaN</td>\n",
       "      <td>NaN</td>\n",
       "      <td>NaN</td>\n",
       "      <td>NaN</td>\n",
       "      <td>NaN</td>\n",
       "      <td>NaN</td>\n",
       "      <td>NaN</td>\n",
       "      <td>NaN</td>\n",
       "      <td>NaN</td>\n",
       "      <td>NaN</td>\n",
       "    </tr>\n",
       "    <tr>\n",
       "      <th>2</th>\n",
       "      <td>NaN</td>\n",
       "      <td>NaN</td>\n",
       "      <td>NaN</td>\n",
       "      <td>NaN</td>\n",
       "      <td>NaN</td>\n",
       "      <td>NaT</td>\n",
       "      <td>NaT</td>\n",
       "      <td>NaN</td>\n",
       "      <td>NaN</td>\n",
       "      <td>NaN</td>\n",
       "      <td>...</td>\n",
       "      <td>NaN</td>\n",
       "      <td>NaN</td>\n",
       "      <td>NaN</td>\n",
       "      <td>NaN</td>\n",
       "      <td>NaN</td>\n",
       "      <td>NaN</td>\n",
       "      <td>NaN</td>\n",
       "      <td>NaN</td>\n",
       "      <td>NaN</td>\n",
       "      <td>NaN</td>\n",
       "    </tr>\n",
       "    <tr>\n",
       "      <th>3</th>\n",
       "      <td>NaN</td>\n",
       "      <td>NY06S011007</td>\n",
       "      <td>Active</td>\n",
       "      <td>PRAC/202</td>\n",
       "      <td>4: Request Renewal for Projects Exempt from OAHP</td>\n",
       "      <td>2021-02-01</td>\n",
       "      <td>2046-01-31</td>\n",
       "      <td>21.0</td>\n",
       "      <td>84.84</td>\n",
       "      <td>NaN</td>\n",
       "      <td>...</td>\n",
       "      <td>NaN</td>\n",
       "      <td>NaN</td>\n",
       "      <td>NaN</td>\n",
       "      <td>NaN</td>\n",
       "      <td>NaN</td>\n",
       "      <td>NaN</td>\n",
       "      <td>NaN</td>\n",
       "      <td>NaN</td>\n",
       "      <td>NaN</td>\n",
       "      <td>NaN</td>\n",
       "    </tr>\n",
       "    <tr>\n",
       "      <th>4</th>\n",
       "      <td>NaN</td>\n",
       "      <td>NaN</td>\n",
       "      <td>NaN</td>\n",
       "      <td>NaN</td>\n",
       "      <td>NaN</td>\n",
       "      <td>NaT</td>\n",
       "      <td>NaT</td>\n",
       "      <td>NaN</td>\n",
       "      <td>NaN</td>\n",
       "      <td>NaN</td>\n",
       "      <td>...</td>\n",
       "      <td>NaN</td>\n",
       "      <td>NaN</td>\n",
       "      <td>NaN</td>\n",
       "      <td>NaN</td>\n",
       "      <td>NaN</td>\n",
       "      <td>NaN</td>\n",
       "      <td>NaN</td>\n",
       "      <td>NaN</td>\n",
       "      <td>NaN</td>\n",
       "      <td>NaN</td>\n",
       "    </tr>\n",
       "    <tr>\n",
       "      <th>...</th>\n",
       "      <td>...</td>\n",
       "      <td>...</td>\n",
       "      <td>...</td>\n",
       "      <td>...</td>\n",
       "      <td>...</td>\n",
       "      <td>...</td>\n",
       "      <td>...</td>\n",
       "      <td>...</td>\n",
       "      <td>...</td>\n",
       "      <td>...</td>\n",
       "      <td>...</td>\n",
       "      <td>...</td>\n",
       "      <td>...</td>\n",
       "      <td>...</td>\n",
       "      <td>...</td>\n",
       "      <td>...</td>\n",
       "      <td>...</td>\n",
       "      <td>...</td>\n",
       "      <td>...</td>\n",
       "      <td>...</td>\n",
       "      <td>...</td>\n",
       "    </tr>\n",
       "    <tr>\n",
       "      <th>82282</th>\n",
       "      <td>NaN</td>\n",
       "      <td>NaN</td>\n",
       "      <td>NaN</td>\n",
       "      <td>NaN</td>\n",
       "      <td>NaN</td>\n",
       "      <td>NaT</td>\n",
       "      <td>NaT</td>\n",
       "      <td>NaN</td>\n",
       "      <td>NaN</td>\n",
       "      <td>NaN</td>\n",
       "      <td>...</td>\n",
       "      <td>NaN</td>\n",
       "      <td>NaN</td>\n",
       "      <td>NaN</td>\n",
       "      <td>NaN</td>\n",
       "      <td>NaN</td>\n",
       "      <td>NaN</td>\n",
       "      <td>NaN</td>\n",
       "      <td>NaN</td>\n",
       "      <td>NaN</td>\n",
       "      <td>NaN</td>\n",
       "    </tr>\n",
       "    <tr>\n",
       "      <th>82283</th>\n",
       "      <td>NaN</td>\n",
       "      <td>NaN</td>\n",
       "      <td>NaN</td>\n",
       "      <td>NaN</td>\n",
       "      <td>NaN</td>\n",
       "      <td>NaT</td>\n",
       "      <td>NaT</td>\n",
       "      <td>NaN</td>\n",
       "      <td>NaN</td>\n",
       "      <td>NaN</td>\n",
       "      <td>...</td>\n",
       "      <td>NaN</td>\n",
       "      <td>NaN</td>\n",
       "      <td>NaN</td>\n",
       "      <td>NaN</td>\n",
       "      <td>NaN</td>\n",
       "      <td>NaN</td>\n",
       "      <td>NaN</td>\n",
       "      <td>NaN</td>\n",
       "      <td>NaN</td>\n",
       "      <td>NaN</td>\n",
       "    </tr>\n",
       "    <tr>\n",
       "      <th>82284</th>\n",
       "      <td>NaN</td>\n",
       "      <td>NaN</td>\n",
       "      <td>NaN</td>\n",
       "      <td>NaN</td>\n",
       "      <td>NaN</td>\n",
       "      <td>NaT</td>\n",
       "      <td>NaT</td>\n",
       "      <td>NaN</td>\n",
       "      <td>NaN</td>\n",
       "      <td>NaN</td>\n",
       "      <td>...</td>\n",
       "      <td>NaN</td>\n",
       "      <td>NaN</td>\n",
       "      <td>NaN</td>\n",
       "      <td>NaN</td>\n",
       "      <td>NaN</td>\n",
       "      <td>NaN</td>\n",
       "      <td>NaN</td>\n",
       "      <td>NaN</td>\n",
       "      <td>NaN</td>\n",
       "      <td>NaN</td>\n",
       "    </tr>\n",
       "    <tr>\n",
       "      <th>82285</th>\n",
       "      <td>NaN</td>\n",
       "      <td>NaN</td>\n",
       "      <td>NaN</td>\n",
       "      <td>NaN</td>\n",
       "      <td>NaN</td>\n",
       "      <td>NaT</td>\n",
       "      <td>NaT</td>\n",
       "      <td>NaN</td>\n",
       "      <td>NaN</td>\n",
       "      <td>NaN</td>\n",
       "      <td>...</td>\n",
       "      <td>NaN</td>\n",
       "      <td>NaN</td>\n",
       "      <td>NaN</td>\n",
       "      <td>NaN</td>\n",
       "      <td>NaN</td>\n",
       "      <td>NaN</td>\n",
       "      <td>NaN</td>\n",
       "      <td>NaN</td>\n",
       "      <td>NaN</td>\n",
       "      <td>NaN</td>\n",
       "    </tr>\n",
       "    <tr>\n",
       "      <th>82286</th>\n",
       "      <td>NaN</td>\n",
       "      <td>NaN</td>\n",
       "      <td>NaN</td>\n",
       "      <td>NaN</td>\n",
       "      <td>NaN</td>\n",
       "      <td>NaT</td>\n",
       "      <td>NaT</td>\n",
       "      <td>NaN</td>\n",
       "      <td>NaN</td>\n",
       "      <td>NaN</td>\n",
       "      <td>...</td>\n",
       "      <td>NaN</td>\n",
       "      <td>NaN</td>\n",
       "      <td>NaN</td>\n",
       "      <td>NaN</td>\n",
       "      <td>NaN</td>\n",
       "      <td>NaN</td>\n",
       "      <td>NaN</td>\n",
       "      <td>NaN</td>\n",
       "      <td>NaN</td>\n",
       "      <td>NaN</td>\n",
       "    </tr>\n",
       "  </tbody>\n",
       "</table>\n",
       "<p>82287 rows × 137 columns</p>\n",
       "</div>"
      ],
      "text/plain": [
       "      S8_1_InacStatusDesc      S8_2_ID S8_2_Status S8_2_ProgramName  \\\n",
       "0                     NaN          NaN         NaN              NaN   \n",
       "1                     NaN          NaN         NaN              NaN   \n",
       "2                     NaN          NaN         NaN              NaN   \n",
       "3                     NaN  NY06S011007      Active         PRAC/202   \n",
       "4                     NaN          NaN         NaN              NaN   \n",
       "...                   ...          ...         ...              ...   \n",
       "82282                 NaN          NaN         NaN              NaN   \n",
       "82283                 NaN          NaN         NaN              NaN   \n",
       "82284                 NaN          NaN         NaN              NaN   \n",
       "82285                 NaN          NaN         NaN              NaN   \n",
       "82286                 NaN          NaN         NaN              NaN   \n",
       "\n",
       "                                     S8_2_RenewalStatus S8_2_StartDate  \\\n",
       "0                                                   NaN            NaT   \n",
       "1                                                   NaN            NaT   \n",
       "2                                                   NaN            NaT   \n",
       "3      4: Request Renewal for Projects Exempt from OAHP     2021-02-01   \n",
       "4                                                   NaN            NaT   \n",
       "...                                                 ...            ...   \n",
       "82282                                               NaN            NaT   \n",
       "82283                                               NaN            NaT   \n",
       "82284                                               NaN            NaT   \n",
       "82285                                               NaN            NaT   \n",
       "82286                                               NaN            NaT   \n",
       "\n",
       "      S8_2_EndDate  S8_2_AssistedUnits  S8_2_RentToFMR S8_2_InacStatusDesc  \\\n",
       "0              NaT                 NaN             NaN                 NaN   \n",
       "1              NaT                 NaN             NaN                 NaN   \n",
       "2              NaT                 NaN             NaN                 NaN   \n",
       "3       2046-01-31                21.0           84.84                 NaN   \n",
       "4              NaT                 NaN             NaN                 NaN   \n",
       "...            ...                 ...             ...                 ...   \n",
       "82282          NaT                 NaN             NaN                 NaN   \n",
       "82283          NaT                 NaN             NaN                 NaN   \n",
       "82284          NaT                 NaN             NaN                 NaN   \n",
       "82285          NaT                 NaN             NaN                 NaN   \n",
       "82286          NaT                 NaN             NaN                 NaN   \n",
       "\n",
       "       ...  Pbv_1_AssistedUnits Pbv_2_Status Pbv_2_ProgramName  \\\n",
       "0      ...                  NaN          NaN               NaN   \n",
       "1      ...                  NaN          NaN               NaN   \n",
       "2      ...                  NaN          NaN               NaN   \n",
       "3      ...                  NaN          NaN               NaN   \n",
       "4      ...                  NaN          NaN               NaN   \n",
       "...    ...                  ...          ...               ...   \n",
       "82282  ...                  NaN          NaN               NaN   \n",
       "82283  ...                  NaN          NaN               NaN   \n",
       "82284  ...                  NaN          NaN               NaN   \n",
       "82285  ...                  NaN          NaN               NaN   \n",
       "82286  ...                  NaN          NaN               NaN   \n",
       "\n",
       "      Pbv_2_AssistedUnits Mr_1_Status  Mr_1_ProgramName  Mr_1_AssistedUnits  \\\n",
       "0                     NaN         NaN               NaN                 NaN   \n",
       "1                     NaN         NaN               NaN                 NaN   \n",
       "2                     NaN         NaN               NaN                 NaN   \n",
       "3                     NaN         NaN               NaN                 NaN   \n",
       "4                     NaN         NaN               NaN                 NaN   \n",
       "...                   ...         ...               ...                 ...   \n",
       "82282                 NaN         NaN               NaN                 NaN   \n",
       "82283                 NaN         NaN               NaN                 NaN   \n",
       "82284                 NaN         NaN               NaN                 NaN   \n",
       "82285                 NaN         NaN               NaN                 NaN   \n",
       "82286                 NaN         NaN               NaN                 NaN   \n",
       "\n",
       "      Mr_2_Status  Mr_2_ProgramName Mr_2_AssistedUnits  \n",
       "0             NaN               NaN                NaN  \n",
       "1             NaN               NaN                NaN  \n",
       "2             NaN               NaN                NaN  \n",
       "3             NaN               NaN                NaN  \n",
       "4             NaN               NaN                NaN  \n",
       "...           ...               ...                ...  \n",
       "82282         NaN               NaN                NaN  \n",
       "82283         NaN               NaN                NaN  \n",
       "82284         NaN               NaN                NaN  \n",
       "82285         NaN               NaN                NaN  \n",
       "82286         NaN               NaN                NaN  \n",
       "\n",
       "[82287 rows x 137 columns]"
      ]
     },
     "execution_count": 250,
     "metadata": {},
     "output_type": "execute_result"
    }
   ],
   "source": [
    "# We will explore these columns first as they donot have any missing values\n",
    "nhpd_subset = nhpd.loc[:, nhpd.columns.isin(no_missing_list)]\n",
    "nhpd_subset"
   ]
  },
  {
   "cell_type": "code",
   "execution_count": 251,
   "metadata": {},
   "outputs": [
    {
     "data": {
      "text/plain": [
       "Index(['S8_1_InacStatusDesc', 'S8_2_ID', 'S8_2_Status', 'S8_2_ProgramName',\n",
       "       'S8_2_RenewalStatus', 'S8_2_StartDate', 'S8_2_EndDate',\n",
       "       'S8_2_AssistedUnits', 'S8_2_RentToFMR', 'S8_2_InacStatusDesc',\n",
       "       ...\n",
       "       'Pbv_1_AssistedUnits', 'Pbv_2_Status', 'Pbv_2_ProgramName',\n",
       "       'Pbv_2_AssistedUnits', 'Mr_1_Status', 'Mr_1_ProgramName',\n",
       "       'Mr_1_AssistedUnits', 'Mr_2_Status', 'Mr_2_ProgramName',\n",
       "       'Mr_2_AssistedUnits'],\n",
       "      dtype='object', length=137)"
      ]
     },
     "execution_count": 251,
     "metadata": {},
     "output_type": "execute_result"
    }
   ],
   "source": [
    "# Now that we have our dataset with columns having complete data, lets focus on each column and explore more\n",
    "\n",
    "nhpd_subset.columns"
   ]
  },
  {
   "cell_type": "code",
   "execution_count": 252,
   "metadata": {},
   "outputs": [],
   "source": [
    "def univariate_analysis(df:pd.DataFrame, col: str):\n",
    "    \"\"\"\n",
    "    Takes a dataframe and a column name to plot the \n",
    "    param df: dataframe\n",
    "    param col: column name for which we want the viz\n",
    "    \"\"\"\n",
    "    \n",
    "    df[col].value_counts().head(10).sort_values(ascending=True).plot.barh()    "
   ]
  },
  {
   "cell_type": "code",
   "execution_count": 253,
   "metadata": {},
   "outputs": [
    {
     "data": {
      "image/png": "[encoded data removed]",
      "text/plain": [
       "<Figure size 432x288 with 1 Axes>"
      ]
     },
     "metadata": {
      "needs_background": "light"
     },
     "output_type": "display_data"
    }
   ],
   "source": [
    "# Top ten cities present in the dataset\n",
    "univariate_analysis(nhpd, ['City'])"
   ]
  },
  {
   "cell_type": "code",
   "execution_count": 254,
   "metadata": {},
   "outputs": [
    {
     "data": {
      "image/png": "[encoded data removed]",
      "text/plain": [
       "<Figure size 432x288 with 1 Axes>"
      ]
     },
     "metadata": {
      "needs_background": "light"
     },
     "output_type": "display_data"
    }
   ],
   "source": [
    "# Top ten counties present in the dataset\n",
    "univariate_analysis(nhpd, ['County'])"
   ]
  },
  {
   "cell_type": "code",
   "execution_count": 255,
   "metadata": {},
   "outputs": [
    {
     "data": {
      "image/png": "[encoded data removed]",
      "text/plain": [
       "<Figure size 432x288 with 1 Axes>"
      ]
     },
     "metadata": {
      "needs_background": "light"
     },
     "output_type": "display_data"
    }
   ],
   "source": [
    "# Top ten states present in the dataset\n",
    "univariate_analysis(nhpd, ['State'])"
   ]
  },
  {
   "cell_type": "markdown",
   "metadata": {},
   "source": [
    "#### Let's explore the LIHTC i.e. the 'Low Income Housing Tax Credit' housing subsidies for Florida and compare them with rest of the USA"
   ]
  },
  {
   "cell_type": "code",
   "execution_count": 256,
   "metadata": {},
   "outputs": [
    {
     "data": {
      "text/html": [
       "<div>\n",
       "<style scoped>\n",
       "    .dataframe tbody tr th:only-of-type {\n",
       "        vertical-align: middle;\n",
       "    }\n",
       "\n",
       "    .dataframe tbody tr th {\n",
       "        vertical-align: top;\n",
       "    }\n",
       "\n",
       "    .dataframe thead th {\n",
       "        text-align: right;\n",
       "    }\n",
       "</style>\n",
       "<table border=\"1\" class=\"dataframe\">\n",
       "  <thead>\n",
       "    <tr style=\"text-align: right;\">\n",
       "      <th></th>\n",
       "      <th>NHPDPropertyID</th>\n",
       "      <th>PropertyName</th>\n",
       "      <th>PropertyAddress</th>\n",
       "      <th>City</th>\n",
       "      <th>State</th>\n",
       "      <th>Zip</th>\n",
       "      <th>CBSACode</th>\n",
       "      <th>CBSAType</th>\n",
       "      <th>County</th>\n",
       "      <th>CountyCode</th>\n",
       "      <th>...</th>\n",
       "      <th>NumberActiveMR</th>\n",
       "      <th>NumberInconclusiveMR</th>\n",
       "      <th>NumberInactiveMR</th>\n",
       "      <th>Mr_1_Status</th>\n",
       "      <th>Mr_1_ProgramName</th>\n",
       "      <th>Mr_1_AssistedUnits</th>\n",
       "      <th>Mr_2_Status</th>\n",
       "      <th>Mr_2_ProgramName</th>\n",
       "      <th>Mr_2_AssistedUnits</th>\n",
       "      <th>OldNHPDPropertyID</th>\n",
       "    </tr>\n",
       "  </thead>\n",
       "  <tbody>\n",
       "    <tr>\n",
       "      <th>144</th>\n",
       "      <td>1000147</td>\n",
       "      <td>SUNTERRA APARTMENTS</td>\n",
       "      <td>3541 Evans Ave</td>\n",
       "      <td>Fort Myers</td>\n",
       "      <td>FL</td>\n",
       "      <td>33901-8328</td>\n",
       "      <td>15980.0</td>\n",
       "      <td>Metropolitan Statistical Area</td>\n",
       "      <td>Lee</td>\n",
       "      <td>12071.0</td>\n",
       "      <td>...</td>\n",
       "      <td>0</td>\n",
       "      <td>0</td>\n",
       "      <td>0</td>\n",
       "      <td>NaN</td>\n",
       "      <td>NaN</td>\n",
       "      <td>NaN</td>\n",
       "      <td>NaN</td>\n",
       "      <td>NaN</td>\n",
       "      <td>NaN</td>\n",
       "      <td>NaN</td>\n",
       "    </tr>\n",
       "    <tr>\n",
       "      <th>159</th>\n",
       "      <td>1000163</td>\n",
       "      <td>BUENA VISTA APARTMENTS</td>\n",
       "      <td>521 SW 6th St</td>\n",
       "      <td>Miami</td>\n",
       "      <td>FL</td>\n",
       "      <td>33130-2773</td>\n",
       "      <td>33100.0</td>\n",
       "      <td>Metropolitan Statistical Area</td>\n",
       "      <td>Miami-Dade</td>\n",
       "      <td>12086.0</td>\n",
       "      <td>...</td>\n",
       "      <td>0</td>\n",
       "      <td>0</td>\n",
       "      <td>0</td>\n",
       "      <td>NaN</td>\n",
       "      <td>NaN</td>\n",
       "      <td>NaN</td>\n",
       "      <td>NaN</td>\n",
       "      <td>NaN</td>\n",
       "      <td>NaN</td>\n",
       "      <td>NaN</td>\n",
       "    </tr>\n",
       "    <tr>\n",
       "      <th>161</th>\n",
       "      <td>1000165</td>\n",
       "      <td>VILLA BEATRIZ</td>\n",
       "      <td>776 NW 2nd St</td>\n",
       "      <td>Miami</td>\n",
       "      <td>FL</td>\n",
       "      <td>33128-1454</td>\n",
       "      <td>33100.0</td>\n",
       "      <td>Metropolitan Statistical Area</td>\n",
       "      <td>Miami-Dade</td>\n",
       "      <td>12086.0</td>\n",
       "      <td>...</td>\n",
       "      <td>0</td>\n",
       "      <td>0</td>\n",
       "      <td>0</td>\n",
       "      <td>NaN</td>\n",
       "      <td>NaN</td>\n",
       "      <td>NaN</td>\n",
       "      <td>NaN</td>\n",
       "      <td>NaN</td>\n",
       "      <td>NaN</td>\n",
       "      <td>NaN</td>\n",
       "    </tr>\n",
       "    <tr>\n",
       "      <th>168</th>\n",
       "      <td>1000172</td>\n",
       "      <td>PORTILLO APARTMENTS</td>\n",
       "      <td>3559 Portillo Rd</td>\n",
       "      <td>Spring Hill</td>\n",
       "      <td>FL</td>\n",
       "      <td>34608</td>\n",
       "      <td>45300.0</td>\n",
       "      <td>Metropolitan Statistical Area</td>\n",
       "      <td>Hernando</td>\n",
       "      <td>12053.0</td>\n",
       "      <td>...</td>\n",
       "      <td>0</td>\n",
       "      <td>0</td>\n",
       "      <td>0</td>\n",
       "      <td>NaN</td>\n",
       "      <td>NaN</td>\n",
       "      <td>NaN</td>\n",
       "      <td>NaN</td>\n",
       "      <td>NaN</td>\n",
       "      <td>NaN</td>\n",
       "      <td>NaN</td>\n",
       "    </tr>\n",
       "    <tr>\n",
       "      <th>546</th>\n",
       "      <td>1000611</td>\n",
       "      <td>PHASE IV-B</td>\n",
       "      <td>4231 Machiavelli Ln</td>\n",
       "      <td>Fort Myers</td>\n",
       "      <td>FL</td>\n",
       "      <td>33916-4870</td>\n",
       "      <td>15980.0</td>\n",
       "      <td>Metropolitan Statistical Area</td>\n",
       "      <td>Lee</td>\n",
       "      <td>12071.0</td>\n",
       "      <td>...</td>\n",
       "      <td>0</td>\n",
       "      <td>0</td>\n",
       "      <td>0</td>\n",
       "      <td>NaN</td>\n",
       "      <td>NaN</td>\n",
       "      <td>NaN</td>\n",
       "      <td>NaN</td>\n",
       "      <td>NaN</td>\n",
       "      <td>NaN</td>\n",
       "      <td>NaN</td>\n",
       "    </tr>\n",
       "  </tbody>\n",
       "</table>\n",
       "<p>5 rows × 252 columns</p>\n",
       "</div>"
      ],
      "text/plain": [
       "     NHPDPropertyID            PropertyName      PropertyAddress         City  \\\n",
       "144         1000147     SUNTERRA APARTMENTS       3541 Evans Ave   Fort Myers   \n",
       "159         1000163  BUENA VISTA APARTMENTS        521 SW 6th St        Miami   \n",
       "161         1000165           VILLA BEATRIZ        776 NW 2nd St        Miami   \n",
       "168         1000172     PORTILLO APARTMENTS     3559 Portillo Rd  Spring Hill   \n",
       "546         1000611              PHASE IV-B  4231 Machiavelli Ln   Fort Myers   \n",
       "\n",
       "    State         Zip  CBSACode                       CBSAType      County  \\\n",
       "144    FL  33901-8328   15980.0  Metropolitan Statistical Area         Lee   \n",
       "159    FL  33130-2773   33100.0  Metropolitan Statistical Area  Miami-Dade   \n",
       "161    FL  33128-1454   33100.0  Metropolitan Statistical Area  Miami-Dade   \n",
       "168    FL       34608   45300.0  Metropolitan Statistical Area    Hernando   \n",
       "546    FL  33916-4870   15980.0  Metropolitan Statistical Area         Lee   \n",
       "\n",
       "     CountyCode  ...  NumberActiveMR NumberInconclusiveMR  NumberInactiveMR  \\\n",
       "144     12071.0  ...               0                    0                 0   \n",
       "159     12086.0  ...               0                    0                 0   \n",
       "161     12086.0  ...               0                    0                 0   \n",
       "168     12053.0  ...               0                    0                 0   \n",
       "546     12071.0  ...               0                    0                 0   \n",
       "\n",
       "     Mr_1_Status Mr_1_ProgramName  Mr_1_AssistedUnits  Mr_2_Status  \\\n",
       "144          NaN              NaN                 NaN          NaN   \n",
       "159          NaN              NaN                 NaN          NaN   \n",
       "161          NaN              NaN                 NaN          NaN   \n",
       "168          NaN              NaN                 NaN          NaN   \n",
       "546          NaN              NaN                 NaN          NaN   \n",
       "\n",
       "     Mr_2_ProgramName  Mr_2_AssistedUnits OldNHPDPropertyID  \n",
       "144               NaN                 NaN               NaN  \n",
       "159               NaN                 NaN               NaN  \n",
       "161               NaN                 NaN               NaN  \n",
       "168               NaN                 NaN               NaN  \n",
       "546               NaN                 NaN               NaN  \n",
       "\n",
       "[5 rows x 252 columns]"
      ]
     },
     "execution_count": 256,
     "metadata": {},
     "output_type": "execute_result"
    }
   ],
   "source": [
    "# Lets explore the the florida data\n",
    "florida_df = nhpd[nhpd['State'] == 'FL']\n",
    "florida_df.head()"
   ]
  },
  {
   "cell_type": "code",
   "execution_count": 257,
   "metadata": {},
   "outputs": [
    {
     "data": {
      "text/html": [
       "<div>\n",
       "<style scoped>\n",
       "    .dataframe tbody tr th:only-of-type {\n",
       "        vertical-align: middle;\n",
       "    }\n",
       "\n",
       "    .dataframe tbody tr th {\n",
       "        vertical-align: top;\n",
       "    }\n",
       "\n",
       "    .dataframe thead th {\n",
       "        text-align: right;\n",
       "    }\n",
       "</style>\n",
       "<table border=\"1\" class=\"dataframe\">\n",
       "  <thead>\n",
       "    <tr style=\"text-align: right;\">\n",
       "      <th></th>\n",
       "      <th>NHPDPropertyID</th>\n",
       "      <th>PropertyName</th>\n",
       "      <th>PropertyAddress</th>\n",
       "      <th>City</th>\n",
       "      <th>State</th>\n",
       "      <th>Zip</th>\n",
       "      <th>CBSACode</th>\n",
       "      <th>CBSAType</th>\n",
       "      <th>County</th>\n",
       "      <th>CountyCode</th>\n",
       "      <th>...</th>\n",
       "      <th>NumberActiveMR</th>\n",
       "      <th>NumberInconclusiveMR</th>\n",
       "      <th>NumberInactiveMR</th>\n",
       "      <th>Mr_1_Status</th>\n",
       "      <th>Mr_1_ProgramName</th>\n",
       "      <th>Mr_1_AssistedUnits</th>\n",
       "      <th>Mr_2_Status</th>\n",
       "      <th>Mr_2_ProgramName</th>\n",
       "      <th>Mr_2_AssistedUnits</th>\n",
       "      <th>OldNHPDPropertyID</th>\n",
       "    </tr>\n",
       "  </thead>\n",
       "  <tbody>\n",
       "    <tr>\n",
       "      <th>0</th>\n",
       "      <td>1000000</td>\n",
       "      <td>IVY ESTATES</td>\n",
       "      <td>6729 Zeigler Blvd</td>\n",
       "      <td>Mobile</td>\n",
       "      <td>AL</td>\n",
       "      <td>36608-4253</td>\n",
       "      <td>33660.0</td>\n",
       "      <td>Metropolitan Statistical Area</td>\n",
       "      <td>Mobile</td>\n",
       "      <td>1097.0</td>\n",
       "      <td>...</td>\n",
       "      <td>0</td>\n",
       "      <td>0</td>\n",
       "      <td>0</td>\n",
       "      <td>NaN</td>\n",
       "      <td>NaN</td>\n",
       "      <td>NaN</td>\n",
       "      <td>NaN</td>\n",
       "      <td>NaN</td>\n",
       "      <td>NaN</td>\n",
       "      <td>NaN</td>\n",
       "    </tr>\n",
       "    <tr>\n",
       "      <th>1</th>\n",
       "      <td>1000001</td>\n",
       "      <td>RENDU TERRACE WEST</td>\n",
       "      <td>7400 Old Shell Rd</td>\n",
       "      <td>Mobile</td>\n",
       "      <td>AL</td>\n",
       "      <td>36608-4549</td>\n",
       "      <td>33660.0</td>\n",
       "      <td>Metropolitan Statistical Area</td>\n",
       "      <td>Mobile</td>\n",
       "      <td>1097.0</td>\n",
       "      <td>...</td>\n",
       "      <td>0</td>\n",
       "      <td>0</td>\n",
       "      <td>0</td>\n",
       "      <td>NaN</td>\n",
       "      <td>NaN</td>\n",
       "      <td>NaN</td>\n",
       "      <td>NaN</td>\n",
       "      <td>NaN</td>\n",
       "      <td>NaN</td>\n",
       "      <td>NaN</td>\n",
       "    </tr>\n",
       "    <tr>\n",
       "      <th>2</th>\n",
       "      <td>1000002</td>\n",
       "      <td>TWB RESIDENTIAL OPPORTUNITIES II</td>\n",
       "      <td>93 Canal Rd</td>\n",
       "      <td>Port Jefferson Station</td>\n",
       "      <td>NY</td>\n",
       "      <td>11776-3024</td>\n",
       "      <td>35620.0</td>\n",
       "      <td>Metropolitan</td>\n",
       "      <td>Suffolk</td>\n",
       "      <td>36103.0</td>\n",
       "      <td>...</td>\n",
       "      <td>0</td>\n",
       "      <td>0</td>\n",
       "      <td>0</td>\n",
       "      <td>NaN</td>\n",
       "      <td>NaN</td>\n",
       "      <td>NaN</td>\n",
       "      <td>NaN</td>\n",
       "      <td>NaN</td>\n",
       "      <td>NaN</td>\n",
       "      <td>NaN</td>\n",
       "    </tr>\n",
       "    <tr>\n",
       "      <th>3</th>\n",
       "      <td>1000003</td>\n",
       "      <td>THE DAISY HOUSE</td>\n",
       "      <td>615 Clarissa St</td>\n",
       "      <td>Rochester</td>\n",
       "      <td>NY</td>\n",
       "      <td>14608-2485</td>\n",
       "      <td>40380.0</td>\n",
       "      <td>Metropolitan</td>\n",
       "      <td>Monroe</td>\n",
       "      <td>36055.0</td>\n",
       "      <td>...</td>\n",
       "      <td>0</td>\n",
       "      <td>0</td>\n",
       "      <td>0</td>\n",
       "      <td>NaN</td>\n",
       "      <td>NaN</td>\n",
       "      <td>NaN</td>\n",
       "      <td>NaN</td>\n",
       "      <td>NaN</td>\n",
       "      <td>NaN</td>\n",
       "      <td>NaN</td>\n",
       "    </tr>\n",
       "    <tr>\n",
       "      <th>4</th>\n",
       "      <td>1000004</td>\n",
       "      <td>MAIN AVENUE APARTMENTS</td>\n",
       "      <td>105 E Walnut St</td>\n",
       "      <td>Sylacauga</td>\n",
       "      <td>AL</td>\n",
       "      <td>35150-3012</td>\n",
       "      <td>45180.0</td>\n",
       "      <td>Micropolitan Statistical Area</td>\n",
       "      <td>Talladega</td>\n",
       "      <td>1121.0</td>\n",
       "      <td>...</td>\n",
       "      <td>0</td>\n",
       "      <td>0</td>\n",
       "      <td>0</td>\n",
       "      <td>NaN</td>\n",
       "      <td>NaN</td>\n",
       "      <td>NaN</td>\n",
       "      <td>NaN</td>\n",
       "      <td>NaN</td>\n",
       "      <td>NaN</td>\n",
       "      <td>NaN</td>\n",
       "    </tr>\n",
       "  </tbody>\n",
       "</table>\n",
       "<p>5 rows × 252 columns</p>\n",
       "</div>"
      ],
      "text/plain": [
       "   NHPDPropertyID                      PropertyName    PropertyAddress  \\\n",
       "0         1000000                       IVY ESTATES  6729 Zeigler Blvd   \n",
       "1         1000001                RENDU TERRACE WEST  7400 Old Shell Rd   \n",
       "2         1000002  TWB RESIDENTIAL OPPORTUNITIES II        93 Canal Rd   \n",
       "3         1000003                   THE DAISY HOUSE    615 Clarissa St   \n",
       "4         1000004            MAIN AVENUE APARTMENTS    105 E Walnut St   \n",
       "\n",
       "                     City State         Zip  CBSACode  \\\n",
       "0                  Mobile    AL  36608-4253   33660.0   \n",
       "1                  Mobile    AL  36608-4549   33660.0   \n",
       "2  Port Jefferson Station    NY  11776-3024   35620.0   \n",
       "3               Rochester    NY  14608-2485   40380.0   \n",
       "4               Sylacauga    AL  35150-3012   45180.0   \n",
       "\n",
       "                        CBSAType     County  CountyCode  ...  NumberActiveMR  \\\n",
       "0  Metropolitan Statistical Area     Mobile      1097.0  ...               0   \n",
       "1  Metropolitan Statistical Area     Mobile      1097.0  ...               0   \n",
       "2                   Metropolitan    Suffolk     36103.0  ...               0   \n",
       "3                   Metropolitan     Monroe     36055.0  ...               0   \n",
       "4  Micropolitan Statistical Area  Talladega      1121.0  ...               0   \n",
       "\n",
       "  NumberInconclusiveMR  NumberInactiveMR  Mr_1_Status Mr_1_ProgramName  \\\n",
       "0                    0                 0          NaN              NaN   \n",
       "1                    0                 0          NaN              NaN   \n",
       "2                    0                 0          NaN              NaN   \n",
       "3                    0                 0          NaN              NaN   \n",
       "4                    0                 0          NaN              NaN   \n",
       "\n",
       "   Mr_1_AssistedUnits  Mr_2_Status  Mr_2_ProgramName  Mr_2_AssistedUnits  \\\n",
       "0                 NaN          NaN               NaN                 NaN   \n",
       "1                 NaN          NaN               NaN                 NaN   \n",
       "2                 NaN          NaN               NaN                 NaN   \n",
       "3                 NaN          NaN               NaN                 NaN   \n",
       "4                 NaN          NaN               NaN                 NaN   \n",
       "\n",
       "  OldNHPDPropertyID  \n",
       "0               NaN  \n",
       "1               NaN  \n",
       "2               NaN  \n",
       "3               NaN  \n",
       "4               NaN  \n",
       "\n",
       "[5 rows x 252 columns]"
      ]
     },
     "execution_count": 257,
     "metadata": {},
     "output_type": "execute_result"
    }
   ],
   "source": [
    "# Get the rest of US data for comparison with Florida data\n",
    "rest_US = nhpd[nhpd['State'] != 'FL']\n",
    "rest_US.head()"
   ]
  },
  {
   "cell_type": "code",
   "execution_count": 258,
   "metadata": {},
   "outputs": [
    {
     "name": "stderr",
     "output_type": "stream",
     "text": [
      "/Users/farazrahman/mapping-floodwater/env/lib/python3.8/site-packages/pandas/util/_decorators.py:311: SettingWithCopyWarning: \n",
      "A value is trying to be set on a copy of a slice from a DataFrame\n",
      "\n",
      "See the caveats in the documentation: https://pandas.pydata.org/pandas-docs/stable/user_guide/indexing.html#returning-a-view-versus-a-copy\n",
      "  return func(*args, **kwargs)\n"
     ]
    }
   ],
   "source": [
    "# Total number of units covered by subsidy for florida and the rest of US\n",
    "\n",
    "LIHTC_florida = florida_df[['City', 'LIHTC_1_AssistedUnits', 'NumberActiveLihtc', 'NumberInconclusiveLihtc', \n",
    "                            'NumberInactiveLihtc', 'LIHTC_2_AssistedUnits']]\n",
    "\n",
    "\n",
    "LIHTC_florida.dropna(inplace=True)"
   ]
  },
  {
   "cell_type": "code",
   "execution_count": 259,
   "metadata": {},
   "outputs": [
    {
     "data": {
      "text/plain": [
       "<AxesSubplot:ylabel='City'>"
      ]
     },
     "execution_count": 259,
     "metadata": {},
     "output_type": "execute_result"
    },
    {
     "data": {
      "image/png": "[encoded data removed]",
      "text/plain": [
       "<Figure size 720x576 with 1 Axes>"
      ]
     },
     "metadata": {
      "needs_background": "light"
     },
     "output_type": "display_data"
    }
   ],
   "source": [
    "# On an average how many LIHTC units are covered by subsidies in some of the cities in Florida\n",
    "# Below is the list of cities with LIHTC assisted units for florida \n",
    "fig, ax = plt.subplots(figsize=(10,8))\n",
    "LIHTC_florida.groupby('City')['LIHTC_1_AssistedUnits'].mean().sort_values().plot.barh()"
   ]
  },
  {
   "cell_type": "markdown",
   "metadata": {},
   "source": [
    "###### For Florida we can see that around 120 LIHTC assisted units are covered with subsidies on an average"
   ]
  },
  {
   "cell_type": "code",
   "execution_count": 260,
   "metadata": {},
   "outputs": [
    {
     "data": {
      "text/plain": [
       "count     26.000000\n",
       "mean     119.297436\n",
       "std       61.179588\n",
       "min       16.000000\n",
       "25%       77.000000\n",
       "50%      104.000000\n",
       "75%      167.500000\n",
       "max      256.000000\n",
       "Name: LIHTC_1_AssistedUnits, dtype: float64"
      ]
     },
     "execution_count": 260,
     "metadata": {},
     "output_type": "execute_result"
    }
   ],
   "source": [
    "LIHTC_florida.groupby('City')['LIHTC_1_AssistedUnits'].mean().describe()"
   ]
  },
  {
   "cell_type": "markdown",
   "metadata": {},
   "source": [
    "###### When comparing with the rest of the US we can see that around 60 LIHTC assisted units are covered with subsidies on an average"
   ]
  },
  {
   "cell_type": "code",
   "execution_count": 261,
   "metadata": {},
   "outputs": [
    {
     "name": "stderr",
     "output_type": "stream",
     "text": [
      "/Users/farazrahman/mapping-floodwater/env/lib/python3.8/site-packages/pandas/util/_decorators.py:311: SettingWithCopyWarning: \n",
      "A value is trying to be set on a copy of a slice from a DataFrame\n",
      "\n",
      "See the caveats in the documentation: https://pandas.pydata.org/pandas-docs/stable/user_guide/indexing.html#returning-a-view-versus-a-copy\n",
      "  return func(*args, **kwargs)\n"
     ]
    },
    {
     "data": {
      "text/plain": [
       "count    1023.000000\n",
       "mean       60.665368\n",
       "std        47.917444\n",
       "min         0.000000\n",
       "25%        29.000000\n",
       "50%        48.000000\n",
       "75%        80.000000\n",
       "max       369.500000\n",
       "Name: LIHTC_1_AssistedUnits, dtype: float64"
      ]
     },
     "execution_count": 261,
     "metadata": {},
     "output_type": "execute_result"
    }
   ],
   "source": [
    "# Total number of units covered by subsidy for florida and the rest of US\n",
    "\n",
    "LIHTC_rest_US = rest_US[['City', 'LIHTC_1_AssistedUnits', 'LIHTC_2_AssistedUnits', \n",
    "                         'NumberActiveLihtc', 'NumberInconclusiveLihtc', \n",
    "                            'NumberInactiveLihtc']]\n",
    "\n",
    "\n",
    "LIHTC_rest_US.dropna(inplace=True)\n",
    "\n",
    "LIHTC_rest_US.groupby('City')['LIHTC_1_AssistedUnits'].mean().describe()"
   ]
  },
  {
   "cell_type": "markdown",
   "metadata": {},
   "source": [
    "###### Number of active LIHTC subsidies in Florida grouped by city- On an average there are just 2-4 active LIHTC subsidies for cities in Florida"
   ]
  },
  {
   "cell_type": "code",
   "execution_count": 262,
   "metadata": {},
   "outputs": [
    {
     "data": {
      "text/plain": [
       "<AxesSubplot:ylabel='City'>"
      ]
     },
     "execution_count": 262,
     "metadata": {},
     "output_type": "execute_result"
    },
    {
     "data": {
      "image/png": "[encoded data removed]",
      "text/plain": [
       "<Figure size 720x576 with 1 Axes>"
      ]
     },
     "metadata": {
      "needs_background": "light"
     },
     "output_type": "display_data"
    }
   ],
   "source": [
    "fig, ax = plt.subplots(figsize=(10,8))\n",
    "LIHTC_florida.groupby('City')['NumberActiveLihtc'].mean().sort_values().plot.barh()"
   ]
  },
  {
   "cell_type": "code",
   "execution_count": 263,
   "metadata": {},
   "outputs": [
    {
     "data": {
      "text/plain": [
       "count    26.000000\n",
       "mean      2.108974\n",
       "std       0.492031\n",
       "min       1.000000\n",
       "25%       2.000000\n",
       "50%       2.000000\n",
       "75%       2.000000\n",
       "max       4.000000\n",
       "Name: NumberActiveLihtc, dtype: float64"
      ]
     },
     "execution_count": 263,
     "metadata": {},
     "output_type": "execute_result"
    }
   ],
   "source": [
    "LIHTC_florida.groupby('City')['NumberActiveLihtc'].mean().describe()"
   ]
  },
  {
   "cell_type": "markdown",
   "metadata": {},
   "source": [
    "###### Number of active LIHTC subsidies for rest of the US grouped by city- On an average there are just 2-5 active LIHTC subsidies for cities all over the USA"
   ]
  },
  {
   "cell_type": "code",
   "execution_count": 264,
   "metadata": {},
   "outputs": [
    {
     "data": {
      "text/plain": [
       "count    1023.000000\n",
       "mean        2.027531\n",
       "std         0.425800\n",
       "min         1.000000\n",
       "25%         2.000000\n",
       "50%         2.000000\n",
       "75%         2.000000\n",
       "max         5.250000\n",
       "Name: NumberActiveLihtc, dtype: float64"
      ]
     },
     "execution_count": 264,
     "metadata": {},
     "output_type": "execute_result"
    }
   ],
   "source": [
    "LIHTC_rest_US.groupby('City')['NumberActiveLihtc'].mean().describe()"
   ]
  },
  {
   "cell_type": "code",
   "execution_count": null,
   "metadata": {},
   "outputs": [],
   "source": []
  }
 ],
 "metadata": {
  "kernelspec": {
   "display_name": "Python 3 (ipykernel)",
   "language": "python",
   "name": "python3"
  },
  "language_info": {
   "codemirror_mode": {
    "name": "ipython",
    "version": 3
   },
   "file_extension": ".py",
   "mimetype": "text/x-python",
   "name": "python",
   "nbconvert_exporter": "python",
   "pygments_lexer": "ipython3",
   "version": "3.8.1"
  }
 },
 "nbformat": 4,
 "nbformat_minor": 1
}
