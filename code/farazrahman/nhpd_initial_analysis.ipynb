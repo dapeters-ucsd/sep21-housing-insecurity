{
 "cells": [
  {
   "cell_type": "markdown",
   "metadata": {},
   "source": [
    "#### About the Analysis:\n",
    "\n",
    "##### The main purpose of this notebook is to explore some of the features with respect to LIHTC( Low Income Housing Tax Credit )  program data for Florida and compare it with the rest of the USA. \n",
    "\n",
    "##### But before doing that, we first loaded the NHPD data and checked the overall structure of the dataset. We also found that there are many features that have around 80-100% NAs. \n",
    "\n",
    "##### We then checked the top 10 cities, counties and states that are present in the dataset and did a small univariate and bivariate analysis of features such as occupancy rates, fair market rate etc. before jumping to the LIHTC program data columns for Florida and compared them with rest of the USA.\n",
    "\n",
    "#### Findings:\n",
    "\n",
    "##### 1. Although we didnt see much of a strong trend when comparing the occupancy rate w.r.t fair market rent, but we did find some clusters that shows the occupancy rate is high when the fair market rate is less. \n",
    "\n",
    "##### 2. For Florida there are around 120 LIHTC assisted units that are covered with subsidies on an average, whereas for the rest of the USA, its around 60\n",
    "\n",
    "##### 3. On an average there are just 2-4 active LIHTC subsidies per city in Florida and when compared with the rest of the USA the numbers are almost the same per city"
   ]
  },
  {
   "cell_type": "code",
   "execution_count": 338,
   "metadata": {},
   "outputs": [],
   "source": [
    "import pandas as pd\n",
    "import numpy as np\n",
    "import seaborn as sns\n",
    "import matplotlib.pyplot as plt"
   ]
  },
  {
   "cell_type": "code",
   "execution_count": null,
   "metadata": {},
   "outputs": [],
   "source": [
    "nhpd = pd.read_excel('Active and Inconclusive Properties.xlsx')"
   ]
  },
  {
   "cell_type": "code",
   "execution_count": null,
   "metadata": {},
   "outputs": [],
   "source": [
    "nhpd.shape"
   ]
  },
  {
   "cell_type": "code",
   "execution_count": null,
   "metadata": {},
   "outputs": [],
   "source": [
    "# Let's find the percent of missing values in each column. \n",
    "\n",
    "def find_missing(df: pd.DataFrame):\n",
    "    \"\"\"\n",
    "    Calculates the percent of missing values in a given dataset\n",
    "    param df: The dataframe for which we want to calculate the percent of missing values in each column\n",
    "    \"\"\"\n",
    "    \n",
    "    missing = df.isnull().sum()\n",
    "    \n",
    "    percent_missing = missing * 100/ len(df)\n",
    "    \n",
    "    missing_df = pd.DataFrame({'col': df.columns, 'percent_missing': percent_missing})\n",
    "    \n",
    "    #sort them in decreasing order\n",
    "    missing_df.sort_values(by = 'percent_missing', ascending= False, inplace=True)\n",
    "    \n",
    "    return missing_df\n",
    "    \n",
    "    \n",
    "\n",
    "missing_values = find_missing(nhpd)\n"
   ]
  },
  {
   "cell_type": "code",
   "execution_count": null,
   "metadata": {},
   "outputs": [],
   "source": [
    "# number of columns with more than 90% missing data\n",
    "df_subset_90 = missing_values[missing_values['percent_missing'] >= 90]\n",
    "df_subset_90['col'].nunique()"
   ]
  },
  {
   "cell_type": "code",
   "execution_count": null,
   "metadata": {},
   "outputs": [],
   "source": [
    "# number of columns with less than 30% missing data\n",
    "df_subset_30 = missing_values[missing_values['percent_missing'] <= 30]\n",
    "df_subset_30['col'].nunique()"
   ]
  },
  {
   "cell_type": "code",
   "execution_count": null,
   "metadata": {},
   "outputs": [],
   "source": [
    "# number of columns with less than 100% missing data\n",
    "df_subset_100 = missing_values[missing_values['percent_missing'] == 100]\n",
    "df_subset_100['col'].nunique()"
   ]
  },
  {
   "cell_type": "code",
   "execution_count": null,
   "metadata": {},
   "outputs": [],
   "source": [
    "no_missing_list = df_subset_90['col'].unique().tolist()"
   ]
  },
  {
   "cell_type": "code",
   "execution_count": null,
   "metadata": {},
   "outputs": [],
   "source": [
    "nhpd_subset = nhpd.loc[:, nhpd.columns.isin(no_missing_list)]\n",
    "nhpd_subset.columns"
   ]
  },
  {
   "cell_type": "markdown",
   "metadata": {},
   "source": [
    "#### Analyzing some important features on the overall data such as occupancy rate, fair market rate etc. to get some initial insights"
   ]
  },
  {
   "cell_type": "code",
   "execution_count": null,
   "metadata": {},
   "outputs": [],
   "source": [
    "def univariate_analysis(df:pd.DataFrame, col: str):\n",
    "    \"\"\"\n",
    "    Takes a dataframe and a column name to plot the \n",
    "    param df: dataframe\n",
    "    param col: column name for which we want the viz\n",
    "    \"\"\"\n",
    "    \n",
    "    df[col].value_counts().head(10).sort_values(ascending=True).plot.barh()    "
   ]
  },
  {
   "cell_type": "code",
   "execution_count": null,
   "metadata": {},
   "outputs": [],
   "source": [
    "# Top ten cities present in the dataset\n",
    "univariate_analysis(nhpd, ['City'])"
   ]
  },
  {
   "cell_type": "code",
   "execution_count": null,
   "metadata": {},
   "outputs": [],
   "source": [
    "# Top ten counties present in the dataset\n",
    "univariate_analysis(nhpd, ['County'])"
   ]
  },
  {
   "cell_type": "code",
   "execution_count": null,
   "metadata": {},
   "outputs": [],
   "source": [
    "# Top ten states present in the dataset\n",
    "univariate_analysis(nhpd, ['State'])"
   ]
  },
  {
   "cell_type": "markdown",
   "metadata": {},
   "source": [
    "#### occupancy rate Vs fair market rate: Although we didnt see much of a strong trend when comparing the occupancy rate w.r.t fair market rent, but we did find some clusters that shows the occupancy rate is high when the fair market rate is less. "
   ]
  },
  {
   "cell_type": "code",
   "execution_count": null,
   "metadata": {},
   "outputs": [],
   "source": [
    "sns.regplot(data=nhpd, x=\"FairMarketRent_2BR\", y=\"OccupancyRate\")"
   ]
  },
  {
   "cell_type": "code",
   "execution_count": null,
   "metadata": {},
   "outputs": [],
   "source": [
    "sns.regplot(data=nhpd, x=\"FairMarketRent_2BR\", y=\"AverageMonthsOfTenancy\")"
   ]
  },
  {
   "cell_type": "markdown",
   "metadata": {},
   "source": [
    "##### Next we are going to figure the Fair market rent for target tenant type:"
   ]
  },
  {
   "cell_type": "code",
   "execution_count": null,
   "metadata": {},
   "outputs": [],
   "source": [
    "import fuzzywuzzy\n",
    "from fuzzywuzzy import process\n",
    "import chardet\n",
    "\n",
    "def match_and_replace(df, column, string_to_match, min_ratio = 50):\n",
    "    unique_strings = df[column].unique()\n",
    "    get_matches = fuzzywuzzy.process.extract(string_to_match, unique_strings, \n",
    "                                         limit=20, scorer=fuzzywuzzy.fuzz.token_sort_ratio)\n",
    "    matches = [get_matches[0] for get_matches in get_matches if get_matches[1] >= min_ratio]\n",
    "\n",
    "    rows_with_matches = df[column].isin(matches)\n",
    "    df.loc[rows_with_matches, column] = string_to_match\n",
    "    print(\"Replaced!\")"
   ]
  },
  {
   "cell_type": "code",
   "execution_count": null,
   "metadata": {},
   "outputs": [],
   "source": [
    "match_and_replace(nhpd, 'TargetTenantType', 'Mixed')\n",
    "match_and_replace(nhpd, 'TargetTenantType', 'Mixed;Link')\n",
    "match_and_replace(nhpd, 'TargetTenantType', 'Elderly or Disabled')\n",
    "match_and_replace(nhpd, 'TargetTenantType', 'Family')\n",
    "match_and_replace(nhpd, 'TargetTenantType', 'Elderly')\n",
    "fig, ax = plt.subplots(figsize=(12,12))\n",
    "ax = sns.boxplot(y=\"TargetTenantType\", x=\"FairMarketRent_2BR\", data=nhpd)"
   ]
  },
  {
   "cell_type": "markdown",
   "metadata": {},
   "source": [
    "#### Let's explore the LIHTC i.e. the 'Low Income Housing Tax Credit' housing subsidies for Florida and compare them with rest of the USA"
   ]
  },
  {
   "cell_type": "code",
   "execution_count": null,
   "metadata": {},
   "outputs": [],
   "source": [
    "# Lets explore the the florida data\n",
    "florida_df = nhpd[nhpd['State'] == 'FL']\n",
    "florida_df.head()"
   ]
  },
  {
   "cell_type": "code",
   "execution_count": null,
   "metadata": {},
   "outputs": [],
   "source": [
    "# Get the rest of US data for comparison with Florida data\n",
    "rest_US = nhpd[nhpd['State'] != 'FL']\n",
    "rest_US.head()"
   ]
  },
  {
   "cell_type": "code",
   "execution_count": null,
   "metadata": {},
   "outputs": [],
   "source": [
    "# Total number of units covered by subsidy for florida and the rest of US\n",
    "\n",
    "LIHTC_florida = florida_df[['City', 'LIHTC_1_AssistedUnits', 'NumberActiveLihtc', 'NumberInconclusiveLihtc', \n",
    "                            'NumberInactiveLihtc', 'LIHTC_2_AssistedUnits', 'LIHTC_1_ProgramName', \n",
    "                            'TargetTenantType', 'FairMarketRent_2BR']]\n",
    "\n",
    "\n",
    "LIHTC_florida.dropna(inplace=True)"
   ]
  },
  {
   "cell_type": "code",
   "execution_count": null,
   "metadata": {},
   "outputs": [],
   "source": [
    "# On an average how many LIHTC units are covered by subsidies in some of the cities in Florida\n",
    "# Below is the list of cities with LIHTC assisted units for florida \n",
    "fig, ax = plt.subplots(figsize=(10,8))\n",
    "LIHTC_florida.groupby('City')['LIHTC_1_AssistedUnits'].mean().sort_values().plot.barh()"
   ]
  },
  {
   "cell_type": "markdown",
   "metadata": {},
   "source": [
    "###### For Florida we can see that around 120 LIHTC assisted units are covered with subsidies on an average"
   ]
  },
  {
   "cell_type": "code",
   "execution_count": null,
   "metadata": {},
   "outputs": [],
   "source": [
    "LIHTC_florida.groupby('City')['LIHTC_1_AssistedUnits'].mean().describe()"
   ]
  },
  {
   "cell_type": "markdown",
   "metadata": {},
   "source": [
    "###### When comparing with the rest of the US we can see that around 60 LIHTC assisted units are covered with subsidies on an average"
   ]
  },
  {
   "cell_type": "code",
   "execution_count": null,
   "metadata": {},
   "outputs": [],
   "source": [
    "# Total number of units covered by subsidy for florida and the rest of US\n",
    "\n",
    "LIHTC_rest_US = rest_US[['City', 'LIHTC_1_AssistedUnits', 'LIHTC_2_AssistedUnits', \n",
    "                         'NumberActiveLihtc', 'NumberInconclusiveLihtc', \n",
    "                        'NumberInactiveLihtc', 'LIHTC_1_ProgramName', \n",
    "                         'TargetTenantType', 'FairMarketRent_2BR']]\n",
    "\n",
    "\n",
    "LIHTC_rest_US.dropna(inplace=True)\n",
    "\n",
    "LIHTC_rest_US.groupby('City')['LIHTC_1_AssistedUnits'].mean().describe()"
   ]
  },
  {
   "cell_type": "markdown",
   "metadata": {},
   "source": [
    "###### Number of active LIHTC subsidies in Florida grouped by city- On an average there are just 2-4 active LIHTC subsidies for cities in Florida"
   ]
  },
  {
   "cell_type": "code",
   "execution_count": null,
   "metadata": {},
   "outputs": [],
   "source": [
    "fig, ax = plt.subplots(figsize=(10,8))\n",
    "LIHTC_florida.groupby('City')['NumberActiveLihtc'].mean().sort_values().plot.barh()"
   ]
  },
  {
   "cell_type": "code",
   "execution_count": null,
   "metadata": {},
   "outputs": [],
   "source": [
    "LIHTC_florida.groupby('City')['NumberActiveLihtc'].mean().describe()"
   ]
  },
  {
   "cell_type": "markdown",
   "metadata": {},
   "source": [
    "###### Number of active LIHTC subsidies for rest of the US grouped by city- On an average there are just 2-5 active LIHTC subsidies for cities all over the USA"
   ]
  },
  {
   "cell_type": "code",
   "execution_count": null,
   "metadata": {},
   "outputs": [],
   "source": [
    "LIHTC_rest_US.groupby('City')['NumberActiveLihtc'].mean().describe()"
   ]
  },
  {
   "cell_type": "code",
   "execution_count": null,
   "metadata": {},
   "outputs": [],
   "source": []
  }
 ],
 "metadata": {
  "kernelspec": {
   "display_name": "Python 3 (ipykernel)",
   "language": "python",
   "name": "python3"
  },
  "language_info": {
   "codemirror_mode": {
    "name": "ipython",
    "version": 3
   },
   "file_extension": ".py",
   "mimetype": "text/x-python",
   "name": "python",
   "nbconvert_exporter": "python",
   "pygments_lexer": "ipython3",
   "version": "3.8.1"
  }
 },
 "nbformat": 4,
 "nbformat_minor": 1
}
